{
 "cells": [
  {
   "cell_type": "code",
   "execution_count": null,
   "metadata": {},
   "outputs": [],
   "source": [
    "'''Project description\n",
    "Creating a program to pull up country data from variable sources\n",
    "\n",
    "current status:\n",
    "1. managed to query WB data for a user specified country\n",
    "2. Create a user interface\n",
    "\n",
    "To-do list:\n",
    "1. Pull in more informaion for other sources\n",
    "2. Include another country in the query as benchmark (for user to make sense of the data)\n",
    "3. Improve the user interface\n",
    "'''"
   ]
  },
  {
   "cell_type": "code",
   "execution_count": 2,
   "metadata": {},
   "outputs": [
    {
     "name": "stdout",
     "output_type": "stream",
     "text": [
      "Requirement already satisfied: wbpy in /Volumes/Seagate/Applications/anaconda3/lib/python3.8/site-packages (3.0.0)\n",
      "Requirement already satisfied: pycountry in /Volumes/Seagate/Applications/anaconda3/lib/python3.8/site-packages (from wbpy) (20.7.3)\n",
      "Requirement already satisfied: six>=1.15.0 in /Volumes/Seagate/Applications/anaconda3/lib/python3.8/site-packages (from wbpy) (1.15.0)\n",
      "Requirement already satisfied: pycountry in /Volumes/Seagate/Applications/anaconda3/lib/python3.8/site-packages (20.7.3)\n"
     ]
    }
   ],
   "source": [
    "##### Prep-->package installation\n",
    "\n",
    "!pip install wbpy\n",
    "import wbpy\n",
    "from pprint import pprint\n",
    "\n",
    "!pip install pycountry\n",
    "import pycountry"
   ]
  },
  {
   "cell_type": "code",
   "execution_count": 3,
   "metadata": {},
   "outputs": [],
   "source": [
    "#### Prep-->define indicator list\n",
    "\n",
    "#https://github.com/mattduck/wbpy\n",
    "api = wbpy.IndicatorAPI()\n",
    "\n",
    "# Indicator list\n",
    "\n",
    "#######  low freq\n",
    "#GDP (real, Nominal; level and growth rates)\n",
    "ngdp='ny.gdp.mktp.cd' #usd\n",
    "cgdp='NY.GDP.MKTP.KD' #2010 usd\n",
    "#Population\n",
    "total_population = \"SP.POP.TOTL\"\n",
    "#Current account balance (USD)\n",
    "cab='BN.CAB.XOKA.CD'\n",
    "#Unemployment - %of total labor force\n",
    "unemployment='SL.UEM.TOTL.NE.ZS'\n",
    "#Doing business index (1=most friendly)\n",
    "dbi='IC.BUS.EASE.XQ'\n",
    "\n",
    "\n",
    "# Combined indicator list\n",
    "i_list=[ngdp,cgdp,total_population,cab,unemployment,dbi]\n",
    "n_list=['Nominal GDP in USD','Real GDP in 2010 USD','Total population','Current account balance in USD','Unemployment rate','Doing business index (1=most friendly)']"
   ]
  },
  {
   "cell_type": "code",
   "execution_count": 4,
   "metadata": {},
   "outputs": [
    {
     "name": "stdout",
     "output_type": "stream",
     "text": [
      "http://api.worldbank.org/v2/countries/CHN/indicators/ny.gdp.mktp.cd?date=2018%3A2020&format=json&per_page=10000\n",
      "http://api.worldbank.org/v2/countries/CHN/indicators/NY.GDP.MKTP.KD?date=2018%3A2020&format=json&per_page=10000\n",
      "http://api.worldbank.org/v2/countries/CHN/indicators/SP.POP.TOTL?date=2018%3A2020&format=json&per_page=10000\n",
      "http://api.worldbank.org/v2/countries/CHN/indicators/BN.CAB.XOKA.CD?date=2018%3A2020&format=json&per_page=10000\n",
      "http://api.worldbank.org/v2/countries/CHN/indicators/SL.UEM.TOTL.NE.ZS?date=2018%3A2020&format=json&per_page=10000\n",
      "http://api.worldbank.org/v2/countries/CHN/indicators/IC.BUS.EASE.XQ?date=2018%3A2020&format=json&per_page=10000\n"
     ]
    }
   ],
   "source": [
    "from tkinter import *\n",
    "top_widget=Tk()\n",
    "top_widget.geometry('500x400+650+300')\n",
    "top_widget.title('Find country info')\n",
    "\n",
    "label1=Label(top_widget,text='Enter a country name',bg='gold',fg='blue').place(x=25,y=25)\n",
    "\n",
    "label3=Label(top_widget,text='Output',bg='white',fg='blue')\n",
    "label3.place(x=25,y=85)\n",
    "label3.config(width=40)\n",
    "\n",
    "label4=Label(top_widget,text='Warnings',bg='white',fg='blue')\n",
    "label4.place(x=25,y=265)\n",
    "\n",
    "box1=Entry(top_widget)\n",
    "\n",
    "\n",
    "box1.focus()\n",
    "\n",
    "box1.place(x=160,y=25)\n",
    "\n",
    "    \n",
    "def get_cntydata():\n",
    "    c_matched=pycountry.countries.search_fuzzy(box1.get())  #fuzzy match user input of a country to country codes\n",
    "    match=c_matched[0]      \n",
    "    c_code=match.alpha_2\n",
    "    flag=''\n",
    "    \n",
    "    result={}\n",
    "    for item in i_list:\n",
    "        item=api.get_dataset(item, [c_code], date=\"2018:2020\")\n",
    "        #         query the last three years and keep the most recent number; if no values returned, print \"no updates since 2017\"\n",
    "        result[item]=item.as_dict()               #complete the API query by country\n",
    "    #print(result) \n",
    "    \n",
    "    result1={}\n",
    "    for n in n_list:\n",
    "        result1[n]=result1.get(n,0)\n",
    "    \n",
    "    result2={} #         restructure the returned results\n",
    "    for code,item,name in zip(i_list,result.values(),n_list):\n",
    "        for a in item.values():\n",
    "            result2['2020']=a['2020']\n",
    "            result2['2019']=a['2019']\n",
    "            result2['2018']=a['2018']\n",
    "            if result2['2020'] is None:\n",
    "                if result2['2019'] is None:\n",
    "                    if result2['2018'] is None:\n",
    "                        result1[name]=0\n",
    "                        flag=\"Warning: Variable \"+name+ \" has no updates since 2017\"\n",
    "                    else:\n",
    "                        result1[name]=result2['2018']\n",
    "                else:\n",
    "                    result1[name]=result2['2019']\n",
    "            else:\n",
    "                result1[name]=result2['2020'] \n",
    "    #label3.config(text=[result1,flag])\n",
    "    \n",
    "    label3['text'] = '\\n'.join('{} {}'.format(k, d) for k, d in result1.items())\n",
    "    label4.config(text=flag)\n",
    "    \n",
    "btn=Button(top_widget,text='Get country information',command=get_cntydata).place(x=170,y=55)\n",
    "top_widget.mainloop()"
   ]
  },
  {
   "cell_type": "code",
   "execution_count": null,
   "metadata": {},
   "outputs": [],
   "source": []
  },
  {
   "cell_type": "code",
   "execution_count": null,
   "metadata": {},
   "outputs": [],
   "source": []
  }
 ],
 "metadata": {
  "kernelspec": {
   "display_name": "Python 3",
   "language": "python",
   "name": "python3"
  },
  "language_info": {
   "codemirror_mode": {
    "name": "ipython",
    "version": 3
   },
   "file_extension": ".py",
   "mimetype": "text/x-python",
   "name": "python",
   "nbconvert_exporter": "python",
   "pygments_lexer": "ipython3",
   "version": "3.8.5"
  }
 },
 "nbformat": 4,
 "nbformat_minor": 4
}
